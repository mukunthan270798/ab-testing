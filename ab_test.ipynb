{
 "cells": [
  {
   "cell_type": "markdown",
   "id": "e28926ef",
   "metadata": {},
   "source": [
    "## A/B Testing for Marketing Use Case\n",
    "\n",
    "#### Problem Statement\n",
    "\n",
    "The given Dataset contains data collected from a marketing Ad campaign.\n",
    "The majority of the people were exposed to ads (the experimental group) and a small portion of people (the control group) would instead see a Public Service Announcement (PSA) (or nothing) in the exact size and place the ad would normally be.\n",
    "The marketing team would like to know which of the version of the ads was successful(higher conversions) with the help of statistical analysis.\n"
   ]
  },
  {
   "cell_type": "code",
   "execution_count": 1,
   "id": "04949ab6",
   "metadata": {},
   "outputs": [],
   "source": [
    "import pandas as pd\n",
    "import numpy as np\n",
    "import matplotlib.pyplot as plt\n",
    "from statsmodels.stats.proportion import proportions_ztest\n",
    "from scipy.stats import shapiro,ttest_ind"
   ]
  },
  {
   "cell_type": "markdown",
   "id": "c082bd68",
   "metadata": {},
   "source": [
    "## Part I - Exploratory Data Analysis\n",
    "\n",
    "#### Read the dataset"
   ]
  },
  {
   "cell_type": "code",
   "execution_count": 2,
   "id": "f28cccc7",
   "metadata": {},
   "outputs": [],
   "source": [
    "dataset=pd.read_csv(r'C:\\Stoa\\19. Job Prep\\ab test\\marketing_AB.csv')"
   ]
  },
  {
   "cell_type": "code",
   "execution_count": 3,
   "id": "7aebef93",
   "metadata": {
    "scrolled": true
   },
   "outputs": [
    {
     "data": {
      "text/html": [
       "<div>\n",
       "<style scoped>\n",
       "    .dataframe tbody tr th:only-of-type {\n",
       "        vertical-align: middle;\n",
       "    }\n",
       "\n",
       "    .dataframe tbody tr th {\n",
       "        vertical-align: top;\n",
       "    }\n",
       "\n",
       "    .dataframe thead th {\n",
       "        text-align: right;\n",
       "    }\n",
       "</style>\n",
       "<table border=\"1\" class=\"dataframe\">\n",
       "  <thead>\n",
       "    <tr style=\"text-align: right;\">\n",
       "      <th></th>\n",
       "      <th>Unnamed: 0</th>\n",
       "      <th>user id</th>\n",
       "      <th>test group</th>\n",
       "      <th>converted</th>\n",
       "      <th>total ads</th>\n",
       "      <th>most ads day</th>\n",
       "      <th>most ads hour</th>\n",
       "    </tr>\n",
       "  </thead>\n",
       "  <tbody>\n",
       "    <tr>\n",
       "      <th>0</th>\n",
       "      <td>0</td>\n",
       "      <td>1069124</td>\n",
       "      <td>ad</td>\n",
       "      <td>False</td>\n",
       "      <td>130</td>\n",
       "      <td>Monday</td>\n",
       "      <td>20</td>\n",
       "    </tr>\n",
       "    <tr>\n",
       "      <th>1</th>\n",
       "      <td>1</td>\n",
       "      <td>1119715</td>\n",
       "      <td>ad</td>\n",
       "      <td>False</td>\n",
       "      <td>93</td>\n",
       "      <td>Tuesday</td>\n",
       "      <td>22</td>\n",
       "    </tr>\n",
       "    <tr>\n",
       "      <th>2</th>\n",
       "      <td>2</td>\n",
       "      <td>1144181</td>\n",
       "      <td>ad</td>\n",
       "      <td>False</td>\n",
       "      <td>21</td>\n",
       "      <td>Tuesday</td>\n",
       "      <td>18</td>\n",
       "    </tr>\n",
       "    <tr>\n",
       "      <th>3</th>\n",
       "      <td>3</td>\n",
       "      <td>1435133</td>\n",
       "      <td>ad</td>\n",
       "      <td>False</td>\n",
       "      <td>355</td>\n",
       "      <td>Tuesday</td>\n",
       "      <td>10</td>\n",
       "    </tr>\n",
       "    <tr>\n",
       "      <th>4</th>\n",
       "      <td>4</td>\n",
       "      <td>1015700</td>\n",
       "      <td>ad</td>\n",
       "      <td>False</td>\n",
       "      <td>276</td>\n",
       "      <td>Friday</td>\n",
       "      <td>14</td>\n",
       "    </tr>\n",
       "  </tbody>\n",
       "</table>\n",
       "</div>"
      ],
      "text/plain": [
       "   Unnamed: 0  user id test group  converted  total ads most ads day  \\\n",
       "0           0  1069124         ad      False        130       Monday   \n",
       "1           1  1119715         ad      False         93      Tuesday   \n",
       "2           2  1144181         ad      False         21      Tuesday   \n",
       "3           3  1435133         ad      False        355      Tuesday   \n",
       "4           4  1015700         ad      False        276       Friday   \n",
       "\n",
       "   most ads hour  \n",
       "0             20  \n",
       "1             22  \n",
       "2             18  \n",
       "3             10  \n",
       "4             14  "
      ]
     },
     "execution_count": 3,
     "metadata": {},
     "output_type": "execute_result"
    }
   ],
   "source": [
    "dataset.head()"
   ]
  },
  {
   "cell_type": "markdown",
   "id": "6299e628",
   "metadata": {},
   "source": [
    "#### The column 'Unnamed: 0' is not useful. Hence, we can drop it."
   ]
  },
  {
   "cell_type": "code",
   "execution_count": 4,
   "id": "e640d18d",
   "metadata": {},
   "outputs": [],
   "source": [
    "dataset.drop('Unnamed: 0',axis=1,inplace=True)"
   ]
  },
  {
   "cell_type": "markdown",
   "id": "6539ae30",
   "metadata": {},
   "source": [
    "#### The dataset contains 588101 rows and 6 columns"
   ]
  },
  {
   "cell_type": "code",
   "execution_count": 5,
   "id": "3795dfa0",
   "metadata": {
    "scrolled": true
   },
   "outputs": [
    {
     "data": {
      "text/plain": [
       "(588101, 6)"
      ]
     },
     "execution_count": 5,
     "metadata": {},
     "output_type": "execute_result"
    }
   ],
   "source": [
    "dataset.shape"
   ]
  },
  {
   "cell_type": "markdown",
   "id": "a00723c0",
   "metadata": {},
   "source": [
    "#### Replacing the spaces in the columns headers with underscore"
   ]
  },
  {
   "cell_type": "code",
   "execution_count": 6,
   "id": "4350b628",
   "metadata": {},
   "outputs": [
    {
     "data": {
      "text/plain": [
       "Index(['user_id', 'test_group', 'converted', 'total_ads', 'most_ads_day',\n",
       "       'most_ads_hour'],\n",
       "      dtype='object')"
      ]
     },
     "execution_count": 6,
     "metadata": {},
     "output_type": "execute_result"
    }
   ],
   "source": [
    "dataset.columns=dataset.columns.str.replace(' ','_')\n",
    "dataset.columns"
   ]
  },
  {
   "cell_type": "markdown",
   "id": "3d0cdfc7",
   "metadata": {},
   "source": [
    "#### Rows containing 'ad' in the test_group are the treatment group and 'psa' are the control group"
   ]
  },
  {
   "cell_type": "code",
   "execution_count": 7,
   "id": "aea29d4c",
   "metadata": {
    "scrolled": true
   },
   "outputs": [
    {
     "data": {
      "text/plain": [
       "ad     564577\n",
       "psa     23524\n",
       "Name: test_group, dtype: int64"
      ]
     },
     "execution_count": 7,
     "metadata": {},
     "output_type": "execute_result"
    }
   ],
   "source": [
    "dataset.test_group.value_counts()"
   ]
  },
  {
   "cell_type": "markdown",
   "id": "f7db5633",
   "metadata": {},
   "source": [
    "#### Checking for nulls and column statistics. The dataset does not contain any null values"
   ]
  },
  {
   "cell_type": "code",
   "execution_count": 8,
   "id": "017b4f91",
   "metadata": {},
   "outputs": [
    {
     "name": "stdout",
     "output_type": "stream",
     "text": [
      "<class 'pandas.core.frame.DataFrame'>\n",
      "RangeIndex: 588101 entries, 0 to 588100\n",
      "Data columns (total 6 columns):\n",
      " #   Column         Non-Null Count   Dtype \n",
      "---  ------         --------------   ----- \n",
      " 0   user_id        588101 non-null  int64 \n",
      " 1   test_group     588101 non-null  object\n",
      " 2   converted      588101 non-null  bool  \n",
      " 3   total_ads      588101 non-null  int64 \n",
      " 4   most_ads_day   588101 non-null  object\n",
      " 5   most_ads_hour  588101 non-null  int64 \n",
      "dtypes: bool(1), int64(3), object(2)\n",
      "memory usage: 23.0+ MB\n"
     ]
    }
   ],
   "source": [
    "dataset.info()"
   ]
  },
  {
   "cell_type": "code",
   "execution_count": 9,
   "id": "af2710c3",
   "metadata": {},
   "outputs": [
    {
     "data": {
      "text/html": [
       "<div>\n",
       "<style scoped>\n",
       "    .dataframe tbody tr th:only-of-type {\n",
       "        vertical-align: middle;\n",
       "    }\n",
       "\n",
       "    .dataframe tbody tr th {\n",
       "        vertical-align: top;\n",
       "    }\n",
       "\n",
       "    .dataframe thead th {\n",
       "        text-align: right;\n",
       "    }\n",
       "</style>\n",
       "<table border=\"1\" class=\"dataframe\">\n",
       "  <thead>\n",
       "    <tr style=\"text-align: right;\">\n",
       "      <th></th>\n",
       "      <th>user_id</th>\n",
       "      <th>total_ads</th>\n",
       "      <th>most_ads_hour</th>\n",
       "    </tr>\n",
       "  </thead>\n",
       "  <tbody>\n",
       "    <tr>\n",
       "      <th>count</th>\n",
       "      <td>5.881010e+05</td>\n",
       "      <td>588101.000000</td>\n",
       "      <td>588101.000000</td>\n",
       "    </tr>\n",
       "    <tr>\n",
       "      <th>mean</th>\n",
       "      <td>1.310692e+06</td>\n",
       "      <td>24.820876</td>\n",
       "      <td>14.469061</td>\n",
       "    </tr>\n",
       "    <tr>\n",
       "      <th>std</th>\n",
       "      <td>2.022260e+05</td>\n",
       "      <td>43.715181</td>\n",
       "      <td>4.834634</td>\n",
       "    </tr>\n",
       "    <tr>\n",
       "      <th>min</th>\n",
       "      <td>9.000000e+05</td>\n",
       "      <td>1.000000</td>\n",
       "      <td>0.000000</td>\n",
       "    </tr>\n",
       "    <tr>\n",
       "      <th>25%</th>\n",
       "      <td>1.143190e+06</td>\n",
       "      <td>4.000000</td>\n",
       "      <td>11.000000</td>\n",
       "    </tr>\n",
       "    <tr>\n",
       "      <th>50%</th>\n",
       "      <td>1.313725e+06</td>\n",
       "      <td>13.000000</td>\n",
       "      <td>14.000000</td>\n",
       "    </tr>\n",
       "    <tr>\n",
       "      <th>75%</th>\n",
       "      <td>1.484088e+06</td>\n",
       "      <td>27.000000</td>\n",
       "      <td>18.000000</td>\n",
       "    </tr>\n",
       "    <tr>\n",
       "      <th>max</th>\n",
       "      <td>1.654483e+06</td>\n",
       "      <td>2065.000000</td>\n",
       "      <td>23.000000</td>\n",
       "    </tr>\n",
       "  </tbody>\n",
       "</table>\n",
       "</div>"
      ],
      "text/plain": [
       "            user_id      total_ads  most_ads_hour\n",
       "count  5.881010e+05  588101.000000  588101.000000\n",
       "mean   1.310692e+06      24.820876      14.469061\n",
       "std    2.022260e+05      43.715181       4.834634\n",
       "min    9.000000e+05       1.000000       0.000000\n",
       "25%    1.143190e+06       4.000000      11.000000\n",
       "50%    1.313725e+06      13.000000      14.000000\n",
       "75%    1.484088e+06      27.000000      18.000000\n",
       "max    1.654483e+06    2065.000000      23.000000"
      ]
     },
     "execution_count": 9,
     "metadata": {},
     "output_type": "execute_result"
    }
   ],
   "source": [
    "dataset.describe()"
   ]
  },
  {
   "cell_type": "markdown",
   "id": "995a3ae7",
   "metadata": {},
   "source": [
    "#### Checking for duplicate data. All the user_ids are unique"
   ]
  },
  {
   "cell_type": "code",
   "execution_count": 10,
   "id": "4c518664",
   "metadata": {},
   "outputs": [
    {
     "data": {
      "text/html": [
       "<div>\n",
       "<style scoped>\n",
       "    .dataframe tbody tr th:only-of-type {\n",
       "        vertical-align: middle;\n",
       "    }\n",
       "\n",
       "    .dataframe tbody tr th {\n",
       "        vertical-align: top;\n",
       "    }\n",
       "\n",
       "    .dataframe thead th {\n",
       "        text-align: right;\n",
       "    }\n",
       "</style>\n",
       "<table border=\"1\" class=\"dataframe\">\n",
       "  <thead>\n",
       "    <tr style=\"text-align: right;\">\n",
       "      <th></th>\n",
       "      <th>user_id</th>\n",
       "    </tr>\n",
       "  </thead>\n",
       "  <tbody>\n",
       "    <tr>\n",
       "      <th>total_count</th>\n",
       "      <td>588101</td>\n",
       "    </tr>\n",
       "    <tr>\n",
       "      <th>unique_count</th>\n",
       "      <td>588101</td>\n",
       "    </tr>\n",
       "  </tbody>\n",
       "</table>\n",
       "</div>"
      ],
      "text/plain": [
       "              user_id\n",
       "total_count    588101\n",
       "unique_count   588101"
      ]
     },
     "execution_count": 10,
     "metadata": {},
     "output_type": "execute_result"
    }
   ],
   "source": [
    "dataset.agg(total_count=('user_id','count'),unique_count=('user_id','nunique'))"
   ]
  },
  {
   "cell_type": "markdown",
   "id": "e98d40f7",
   "metadata": {},
   "source": [
    "#### Creating column \"group\" with treatment and control labels"
   ]
  },
  {
   "cell_type": "code",
   "execution_count": 11,
   "id": "b3b822ec",
   "metadata": {},
   "outputs": [],
   "source": [
    "dataset['group']=dataset.test_group.apply(lambda x:'treatment' if x=='ad' else 'control')"
   ]
  },
  {
   "cell_type": "markdown",
   "id": "df452486",
   "metadata": {},
   "source": [
    "#### Changing Boolean values to 0 or 1"
   ]
  },
  {
   "cell_type": "code",
   "execution_count": 12,
   "id": "17418edd",
   "metadata": {},
   "outputs": [],
   "source": [
    "dataset['converted']=dataset['converted'].astype('int')"
   ]
  },
  {
   "cell_type": "markdown",
   "id": "ffe16c12",
   "metadata": {},
   "source": [
    "#### Finding conversion rate for the treatment and control group. Calculating difference between treatment and control group's conversion rates"
   ]
  },
  {
   "cell_type": "code",
   "execution_count": 13,
   "id": "786c4d4b",
   "metadata": {},
   "outputs": [],
   "source": [
    "treatment_rate=dataset[dataset['group']=='treatment']['converted'].mean()"
   ]
  },
  {
   "cell_type": "code",
   "execution_count": 14,
   "id": "af5a36dd",
   "metadata": {},
   "outputs": [
    {
     "data": {
      "text/plain": [
       "0.025546559636683747"
      ]
     },
     "execution_count": 14,
     "metadata": {},
     "output_type": "execute_result"
    }
   ],
   "source": [
    "treatment_rate"
   ]
  },
  {
   "cell_type": "code",
   "execution_count": 15,
   "id": "71c2f3d7",
   "metadata": {},
   "outputs": [
    {
     "data": {
      "text/plain": [
       "0.01785410644448223"
      ]
     },
     "execution_count": 15,
     "metadata": {},
     "output_type": "execute_result"
    }
   ],
   "source": [
    "control_rate=dataset[dataset['group']=='control']['converted'].mean()\n",
    "control_rate"
   ]
  },
  {
   "cell_type": "code",
   "execution_count": 16,
   "id": "028544bf",
   "metadata": {
    "scrolled": true
   },
   "outputs": [
    {
     "data": {
      "text/plain": [
       "0.007692453192201517"
      ]
     },
     "execution_count": 16,
     "metadata": {},
     "output_type": "execute_result"
    }
   ],
   "source": [
    "conv_diff=treatment_rate-control_rate\n",
    "conv_diff"
   ]
  },
  {
   "cell_type": "markdown",
   "id": "cfaf754c",
   "metadata": {},
   "source": [
    "## Part II - A/B Testing for Conversions\n",
    "\n",
    "#### Since the metric of choice (conversion rate) is a categorical metric, we can choose two proportion t-test for AB testing\n",
    "\n",
    "Assumptions for two proportions Z-test:\n",
    "1. The data are simple random values from both the populations\n",
    "2. Both populations follow a binomial distribution\n",
    "3. Samples are independent of each other\n",
    "4. Test results are accurate when np and n(1-p) are greater than 5\n"
   ]
  },
  {
   "cell_type": "markdown",
   "id": "92c173ce",
   "metadata": {},
   "source": [
    "#### Checking for condition np and n(1-p) are greater than 5\n",
    "**Treatment group**"
   ]
  },
  {
   "cell_type": "code",
   "execution_count": 17,
   "id": "c1ea40f8",
   "metadata": {
    "scrolled": true
   },
   "outputs": [
    {
     "data": {
      "text/plain": [
       "14423.0"
      ]
     },
     "execution_count": 17,
     "metadata": {},
     "output_type": "execute_result"
    }
   ],
   "source": [
    "treatment_rate*dataset[dataset['group']=='treatment'].shape[0]"
   ]
  },
  {
   "cell_type": "code",
   "execution_count": 18,
   "id": "7ebe0ee5",
   "metadata": {},
   "outputs": [
    {
     "data": {
      "text/plain": [
       "550154.0"
      ]
     },
     "execution_count": 18,
     "metadata": {},
     "output_type": "execute_result"
    }
   ],
   "source": [
    "(1-treatment_rate)*dataset[dataset['group']=='treatment'].shape[0]"
   ]
  },
  {
   "cell_type": "markdown",
   "id": "c1bb62ff",
   "metadata": {},
   "source": [
    "**Control group**"
   ]
  },
  {
   "cell_type": "code",
   "execution_count": 19,
   "id": "1f6010f2",
   "metadata": {
    "scrolled": true
   },
   "outputs": [
    {
     "data": {
      "text/plain": [
       "420.0"
      ]
     },
     "execution_count": 19,
     "metadata": {},
     "output_type": "execute_result"
    }
   ],
   "source": [
    "control_rate*dataset[dataset['group']=='control'].shape[0]"
   ]
  },
  {
   "cell_type": "code",
   "execution_count": 20,
   "id": "1cff6dd1",
   "metadata": {},
   "outputs": [
    {
     "data": {
      "text/plain": [
       "23104.0"
      ]
     },
     "execution_count": 20,
     "metadata": {},
     "output_type": "execute_result"
    }
   ],
   "source": [
    "(1-control_rate)*dataset[dataset['group']=='control'].shape[0]"
   ]
  },
  {
   "cell_type": "markdown",
   "id": "84eece19",
   "metadata": {},
   "source": [
    "#### Visualizing binomial distribution and comparing the distribution of two groups"
   ]
  },
  {
   "cell_type": "code",
   "execution_count": 21,
   "id": "608231c7",
   "metadata": {},
   "outputs": [
    {
     "data": {
      "image/png": "[encoded data removed]",
      "text/plain": [
       "<Figure size 640x480 with 1 Axes>"
      ]
     },
     "metadata": {},
     "output_type": "display_data"
    }
   ],
   "source": [
    "#treatment and control binomial distributions\n",
    "t_list=[]\n",
    "c_list=[]\n",
    "for i in range(1000):\n",
    "    n_treatment=dataset[dataset['group']=='treatment'].shape[0]\n",
    "    n_control=dataset[dataset['group']=='control'].shape[0]\n",
    "    dist_treatment=np.random.binomial(1,treatment_rate,n_treatment)\n",
    "    dist_control=np.random.binomial(1,control_rate,n_control)\n",
    "    t_dist_rate=np.mean(dist_treatment)\n",
    "    c_dist_rate=np.mean(dist_control)\n",
    "    t_list.append(t_dist_rate)\n",
    "    c_list.append(c_dist_rate)\n",
    "    \n",
    "plt.hist(t_list,label='Treatment',alpha=0.8,color='red')\n",
    "plt.hist(c_list,label='Control',alpha=0.7,color='blue')\n",
    "plt.show()"
   ]
  },
  {
   "cell_type": "markdown",
   "id": "5176cb9e",
   "metadata": {},
   "source": [
    "### Two proportion Z-Test\n",
    "\n",
    "#### Null Hypothesis (H0) : The conversion rate of two groups are equal\n",
    "#### Alternative Hypothesis (H1) : The conversion rate of the treatment group is higher than the control group\n",
    "Significance level(alpha) = 0.05\n",
    "If the P-Value < alpha, we can reject null hypothesis\n"
   ]
  },
  {
   "cell_type": "code",
   "execution_count": 22,
   "id": "23f12d4c",
   "metadata": {},
   "outputs": [],
   "source": [
    "alpha=0.05\n",
    "n_treat=dataset[dataset['group']=='treatment'].shape[0]\n",
    "n_cont=dataset[dataset['group']=='control'].shape[0]\n",
    "success_count=[treatment_rate*n_treat,control_rate*n_control]\n",
    "nobs=[n_treat,n_control]\n",
    "\n",
    "# Since we are trying to test if the treatment rate is greater than the control rate\n",
    "# we use the treatment parameters first and choose alternative='larger'.\n",
    "z_stat,p_val = proportions_ztest(success_count,nobs,alternative='larger')"
   ]
  },
  {
   "cell_type": "code",
   "execution_count": 37,
   "id": "e6e27013",
   "metadata": {},
   "outputs": [
    {
     "name": "stdout",
     "output_type": "stream",
     "text": [
      "The p value 8.526403580779863e-14 is lesser than the significance level 0.05.Hence, we can reject the null hypothesis\n",
      "The conversion rate of the treatment group is higher than that of the control group\n"
     ]
    }
   ],
   "source": [
    "if p_val<alpha:\n",
    "    print('The p value {} is lesser than the significance level {}.Hence, we can reject the null hypothesis'.format(p_val,alpha))\n",
    "    print('The conversion rate of the treatment group is higher than that of the control group')\n",
    "else:\n",
    "    print('The p value {} is higher than the significance level {}.Hence, we cannot reject the null hypothesis'.format(p_val,alpha))"
   ]
  },
  {
   "cell_type": "markdown",
   "id": "6854e725",
   "metadata": {},
   "source": [
    "## Part III - A/B Testing for total_ads\n",
    "\n",
    "#### Since the metric of choice (total_ads) is a average user metric, we can choose appropriate test based on the following conditions\n",
    "\n",
    "If the distribution is normal:\n",
    "    With equal sample group variance: **Student's t-test**\n",
    "    Different sample group variance: **Welch t-test**\n",
    "If the distribution is not normal: **Mann Whitney U test**\n"
   ]
  },
  {
   "cell_type": "markdown",
   "id": "67cafd59",
   "metadata": {},
   "source": [
    "#### Null Hypothesis (H0) : Users between both the treatment and control have equal exposure to the ads before conversion\n",
    "#### Alternative Hypothesis (H1) : Users in the treatment are converted with less exposure to the ads than the control"
   ]
  },
  {
   "cell_type": "code",
   "execution_count": 24,
   "id": "d7ec6a3f",
   "metadata": {
    "scrolled": true
   },
   "outputs": [
    {
     "data": {
      "text/plain": [
       "83.90556749635998"
      ]
     },
     "execution_count": 24,
     "metadata": {},
     "output_type": "execute_result"
    }
   ],
   "source": [
    "dataset[(dataset['group']=='treatment') & (dataset['converted']==1)].total_ads.mean()"
   ]
  },
  {
   "cell_type": "code",
   "execution_count": 25,
   "id": "39573578",
   "metadata": {
    "scrolled": true
   },
   "outputs": [
    {
     "data": {
      "text/plain": [
       "83.27619047619048"
      ]
     },
     "execution_count": 25,
     "metadata": {},
     "output_type": "execute_result"
    }
   ],
   "source": [
    "dataset[(dataset['group']=='control') & (dataset['converted']==1)].total_ads.mean()"
   ]
  },
  {
   "cell_type": "markdown",
   "id": "206f1ca9",
   "metadata": {},
   "source": [
    "### Checking for normality\n",
    "\n",
    "#### 1. Plotting the data points\n",
    "#### 2. Shapiro wilk test for normality"
   ]
  },
  {
   "cell_type": "markdown",
   "id": "d2429a62",
   "metadata": {},
   "source": [
    "#### The resulting visualization is highly skewed, hence not normal"
   ]
  },
  {
   "cell_type": "code",
   "execution_count": 26,
   "id": "e2deab13",
   "metadata": {
    "scrolled": true
   },
   "outputs": [
    {
     "data": {
      "image/png": "[encoded data removed]",
      "text/plain": [
       "<Figure size 400x300 with 1 Axes>"
      ]
     },
     "metadata": {},
     "output_type": "display_data"
    }
   ],
   "source": [
    "plt.figure(figsize=(4,3))\n",
    "plt.hist(dataset[(dataset['group']=='treatment') & (dataset['converted']==1)].total_ads)\n",
    "plt.hist(dataset[(dataset['group']=='control') & (dataset['converted']==1)].total_ads)\n",
    "plt.show()"
   ]
  },
  {
   "cell_type": "markdown",
   "id": "8781f252",
   "metadata": {},
   "source": [
    "#### Shapiro Wilk test for Normality\n",
    "Null Hypothesis (H0) : The sample distribution is normal\n",
    "Alternative Hypothesis (H1) : The sample distribution is not normal"
   ]
  },
  {
   "cell_type": "markdown",
   "id": "291653f9",
   "metadata": {},
   "source": [
    "#### Normality test for treatment and control group"
   ]
  },
  {
   "cell_type": "code",
   "execution_count": 27,
   "id": "ed3299da",
   "metadata": {
    "scrolled": true
   },
   "outputs": [
    {
     "name": "stdout",
     "output_type": "stream",
     "text": [
      "the treatment p value is 0.0 . The control p value is 3.031830063669001e-23\n"
     ]
    },
    {
     "name": "stderr",
     "output_type": "stream",
     "text": [
      "C:\\Users\\Mukunthan\\anaconda3\\lib\\site-packages\\scipy\\stats\\_morestats.py:1800: UserWarning: p-value may not be accurate for N > 5000.\n",
      "  warnings.warn(\"p-value may not be accurate for N > 5000.\")\n"
     ]
    }
   ],
   "source": [
    "treatment_df=dataset[(dataset['group']=='treatment') & (dataset['converted']==1)].total_ads\n",
    "control_df=dataset[(dataset['group']=='control') & (dataset['converted']==1)].total_ads\n",
    "w_treat,w_treat_pvalue=shapiro(treatment_df)\n",
    "w_cont,w_cont_pvalue=shapiro(control_df)\n",
    "print('the treatment p value is',w_treat_pvalue,'. The control p value is',w_cont_pvalue)"
   ]
  },
  {
   "cell_type": "markdown",
   "id": "103a4c4e",
   "metadata": {},
   "source": [
    "#### The p value is lesser than 0.05 in both the groups. Hence we can reject the null hypothesis stating that the distribution is normal"
   ]
  },
  {
   "cell_type": "markdown",
   "id": "040b3242",
   "metadata": {},
   "source": [
    "#### Since the sample distribution is not normal, we can choose Mann Whitney U test. But due to large sample size we cannot use  Mann Whitney U test. However, For large sample size we can assume the normality and perform two sample welch t test."
   ]
  },
  {
   "cell_type": "code",
   "execution_count": 32,
   "id": "8973bc76",
   "metadata": {},
   "outputs": [
    {
     "data": {
      "text/plain": [
       "0.8844137853312304"
      ]
     },
     "execution_count": 32,
     "metadata": {},
     "output_type": "execute_result"
    }
   ],
   "source": [
    "t_stat,p_value=ttest_ind(treatment_df,control_df)\n",
    "p_value"
   ]
  },
  {
   "cell_type": "code",
   "execution_count": 36,
   "id": "e1255bd9",
   "metadata": {},
   "outputs": [
    {
     "name": "stdout",
     "output_type": "stream",
     "text": [
      "The p value 0.8844137853312304 is higher than the significance level 0.05. Hence, we cannot reject the null hypothesis\n",
      "Users between both the treatment and control have equal exposure to the ads before conversion\n"
     ]
    }
   ],
   "source": [
    "if p_value<alpha:\n",
    "    print('The p value {} is lesser than the significance level {}.Hence, we can reject the null hypothesis'.format(p_value,alpha))\n",
    "    print('Users in the treatment are converted with less exposure to the ads than the control')\n",
    "else:\n",
    "    print('The p value {} is higher than the significance level {}. Hence, we cannot reject the null hypothesis'.format(p_value,alpha))\n",
    "    print('Users between both the treatment and control have equal exposure to the ads before conversion')"
   ]
  },
  {
   "cell_type": "code",
   "execution_count": null,
   "id": "f6e57d58",
   "metadata": {},
   "outputs": [],
   "source": []
  }
 ],
 "metadata": {
  "kernelspec": {
   "display_name": "Python 3 (ipykernel)",
   "language": "python",
   "name": "python3"
  },
  "language_info": {
   "codemirror_mode": {
    "name": "ipython",
    "version": 3
   },
   "file_extension": ".py",
   "mimetype": "text/x-python",
   "name": "python",
   "nbconvert_exporter": "python",
   "pygments_lexer": "ipython3",
   "version": "3.9.13"
  }
 },
 "nbformat": 4,
 "nbformat_minor": 5
}
